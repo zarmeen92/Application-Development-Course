{
 "cells": [
  {
   "cell_type": "markdown",
   "metadata": {},
   "source": [
    "1. Print the second item in the fruits list.\n",
    "\n",
    "`fruits = [\"apple\", \"banana\", \"cherry\"]`\n",
    "\n",
    "2. Change the value from \"apple\" to \"kiwi\", in the fruits list.\n",
    "3. Use the `append` method to add \"orange\" to the fruits list.\n",
    "4. Use the `insert` method to add \"lemon\" as the second item in the fruits list.\n",
    "5. Use the `remove` method to remove \"banana\" from the fruits list.\n",
    "6. Use negative indexing to print the last item in the list.\n",
    "7. Use a range of indexes to print the third, fourth, and fifth item in the list.\n",
    "`fruits = [\"apple\", \"banana\", \"cherry\", \"orange\", \"kiwi\", \"melon\", \"mango\"]`\n",
    "8. Use the correct syntax to print the number of items in the list.\n"
   ]
  },
  {
   "cell_type": "code",
   "execution_count": null,
   "metadata": {},
   "outputs": [],
   "source": []
  }
 ],
 "metadata": {
  "kernelspec": {
   "display_name": "Python 3",
   "language": "python",
   "name": "python3"
  },
  "language_info": {
   "codemirror_mode": {
    "name": "ipython",
    "version": 3
   },
   "file_extension": ".py",
   "mimetype": "text/x-python",
   "name": "python",
   "nbconvert_exporter": "python",
   "pygments_lexer": "ipython3",
   "version": "3.6.6"
  }
 },
 "nbformat": 4,
 "nbformat_minor": 2
}
