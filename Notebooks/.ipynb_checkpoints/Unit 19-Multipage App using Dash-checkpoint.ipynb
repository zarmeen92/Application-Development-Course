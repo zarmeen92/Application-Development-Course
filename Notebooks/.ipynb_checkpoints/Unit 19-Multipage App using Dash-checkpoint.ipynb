{
 "cells": [
  {
   "cell_type": "markdown",
   "metadata": {},
   "source": [
    "Dash renders web applications as a \"single-page app\". This means that the application does not completely reload when the user navigates the application, making browsing very fast.\n",
    "\n",
    "There are two components that aid page navigation:\n",
    "**dcc.Location** and **dcc.Link**."
   ]
  },
  {
   "cell_type": "markdown",
   "metadata": {},
   "source": [
    "### dcc.Location\n",
    "\n",
    "represents the location bar in your web browser through the ``pathname`` property.\n",
    "\n",
    "### dcc.Link\n",
    "\n",
    "The Link element updates the pathname of the browser without refreshing the page. \n",
    "\n",
    "### Structure a multi-page app\n",
    "\n",
    "Here's how to structure a multi-page app, where each app is contained in a separate file.\n",
    "\n",
    "File structure:\n",
    "\n",
    "- app.py\n",
    "- index.py\n",
    "- apps\n",
    "    - app1.py\n",
    "    - app2.py"
   ]
  },
  {
   "cell_type": "code",
   "execution_count": null,
   "metadata": {},
   "outputs": [],
   "source": []
  }
 ],
 "metadata": {
  "kernelspec": {
   "display_name": "Python 3",
   "language": "python",
   "name": "python3"
  },
  "language_info": {
   "codemirror_mode": {
    "name": "ipython",
    "version": 3
   },
   "file_extension": ".py",
   "mimetype": "text/x-python",
   "name": "python",
   "nbconvert_exporter": "python",
   "pygments_lexer": "ipython3",
   "version": "3.6.6"
  }
 },
 "nbformat": 4,
 "nbformat_minor": 2
}
