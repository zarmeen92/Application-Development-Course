{
 "cells": [
  {
   "cell_type": "markdown",
   "metadata": {},
   "source": [
    "1. Write a program to generate a table of your ERP number uptil 12\n",
    "2. Create a dictionary variable to write your resume. See the example below:\n",
    "myresume = {'name':#your name #string,\n",
    "            'objective': #sentence\n",
    "            'skills':[Python, C#, Sql] #list of items\n",
    "            'education': [[degree,schoolname,city]] #list of lists\n",
    "           }\n",
    "Perform the following tasks:\n",
    "a. \n"
   ]
  }
 ],
 "metadata": {
  "kernelspec": {
   "display_name": "Python 3",
   "language": "python",
   "name": "python3"
  },
  "language_info": {
   "codemirror_mode": {
    "name": "ipython",
    "version": 3
   },
   "file_extension": ".py",
   "mimetype": "text/x-python",
   "name": "python",
   "nbconvert_exporter": "python",
   "pygments_lexer": "ipython3",
   "version": "3.6.6"
  }
 },
 "nbformat": 4,
 "nbformat_minor": 2
}
