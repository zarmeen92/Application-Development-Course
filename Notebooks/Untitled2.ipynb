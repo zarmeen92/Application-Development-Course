{
 "cells": [
  {
   "cell_type": "code",
   "execution_count": 19,
   "metadata": {},
   "outputs": [],
   "source": [
    "class Car:\n",
    "    carcount=0\n",
    "    def __init__(self,color,speed):\n",
    "        \n",
    "        self.color = color\n",
    "        self.speed = speed\n",
    "        Car.carcount+=1\n",
    "    def print_desc(self):\n",
    "        print(\"The color of car is: \", self.color)\n",
    "        print(\"The speed of car is: \", str(self.speed))\n",
    "    def get_count(self):\n",
    "        print(\"Total car count is: \", str(Car.carcount))\n",
    "    \n",
    "        \n",
    "    "
   ]
  },
  {
   "cell_type": "code",
   "execution_count": 20,
   "metadata": {},
   "outputs": [],
   "source": [
    "obj1 = Car(\"red\",35)"
   ]
  },
  {
   "cell_type": "code",
   "execution_count": 21,
   "metadata": {},
   "outputs": [],
   "source": [
    "obj2 = Car(\"blue\",5)\n",
    "obj3 = Car(\"purple\",5)"
   ]
  },
  {
   "cell_type": "code",
   "execution_count": 22,
   "metadata": {},
   "outputs": [
    {
     "name": "stdout",
     "output_type": "stream",
     "text": [
      "The color of car is:  red\n",
      "The speed of car is:  35\n"
     ]
    }
   ],
   "source": [
    "obj1.print_desc()"
   ]
  },
  {
   "cell_type": "code",
   "execution_count": 23,
   "metadata": {},
   "outputs": [
    {
     "name": "stdout",
     "output_type": "stream",
     "text": [
      "The color of car is:  blue\n",
      "The speed of car is:  5\n"
     ]
    }
   ],
   "source": [
    "obj2.print_desc()"
   ]
  },
  {
   "cell_type": "code",
   "execution_count": 25,
   "metadata": {},
   "outputs": [
    {
     "name": "stdout",
     "output_type": "stream",
     "text": [
      "Total car count is:  3\n"
     ]
    }
   ],
   "source": [
    "obj2.get_count()"
   ]
  },
  {
   "cell_type": "code",
   "execution_count": null,
   "metadata": {},
   "outputs": [],
   "source": []
  }
 ],
 "metadata": {
  "kernelspec": {
   "display_name": "Python 3",
   "language": "python",
   "name": "python3"
  },
  "language_info": {
   "codemirror_mode": {
    "name": "ipython",
    "version": 3
   },
   "file_extension": ".py",
   "mimetype": "text/x-python",
   "name": "python",
   "nbconvert_exporter": "python",
   "pygments_lexer": "ipython3",
   "version": "3.6.6"
  }
 },
 "nbformat": 4,
 "nbformat_minor": 2
}
