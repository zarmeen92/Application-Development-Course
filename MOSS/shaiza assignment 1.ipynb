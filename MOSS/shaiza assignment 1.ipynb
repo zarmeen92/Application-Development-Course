{
 "cells": [
  {
   "cell_type": "code",
   "execution_count": 1,
   "id": "proper-cycle",
   "metadata": {},
   "outputs": [],
   "source": [
    "mylist = [\"hello\", \"world\", \"!\", 28.5,23]"
   ]
  },
  {
   "cell_type": "code",
   "execution_count": 2,
   "id": "ahead-anxiety",
   "metadata": {},
   "outputs": [
    {
     "data": {
      "text/plain": [
       "['hello', 'world', '!', 28.5, 23]"
      ]
     },
     "execution_count": 2,
     "metadata": {},
     "output_type": "execute_result"
    }
   ],
   "source": [
    "mylist"
   ]
  },
  {
   "cell_type": "code",
   "execution_count": 3,
   "id": "joined-improvement",
   "metadata": {},
   "outputs": [
    {
     "data": {
      "text/plain": [
       "'l'"
      ]
     },
     "execution_count": 3,
     "metadata": {},
     "output_type": "execute_result"
    }
   ],
   "source": [
    "mylist[0][3]"
   ]
  },
  {
   "cell_type": "code",
   "execution_count": 4,
   "id": "personal-oxygen",
   "metadata": {},
   "outputs": [
    {
     "data": {
      "text/plain": [
       "['hello', 'world']"
      ]
     },
     "execution_count": 4,
     "metadata": {},
     "output_type": "execute_result"
    }
   ],
   "source": [
    "mylist[0:2]"
   ]
  },
  {
   "cell_type": "code",
   "execution_count": 5,
   "id": "random-charm",
   "metadata": {},
   "outputs": [
    {
     "data": {
      "text/plain": [
       "23"
      ]
     },
     "execution_count": 5,
     "metadata": {},
     "output_type": "execute_result"
    }
   ],
   "source": [
    "mylist[-1]"
   ]
  },
  {
   "cell_type": "code",
   "execution_count": 6,
   "id": "prospective-ratio",
   "metadata": {},
   "outputs": [
    {
     "data": {
      "text/plain": [
       "[28.5, 23]"
      ]
     },
     "execution_count": 6,
     "metadata": {},
     "output_type": "execute_result"
    }
   ],
   "source": [
    "mylist[3:5]"
   ]
  },
  {
   "cell_type": "code",
   "execution_count": 7,
   "id": "growing-kingdom",
   "metadata": {},
   "outputs": [
    {
     "data": {
      "text/plain": [
       "[28.5, 23]"
      ]
     },
     "execution_count": 7,
     "metadata": {},
     "output_type": "execute_result"
    }
   ],
   "source": [
    "mylist[3:7]"
   ]
  },
  {
   "cell_type": "code",
   "execution_count": 9,
   "id": "sixth-restoration",
   "metadata": {},
   "outputs": [
    {
     "data": {
      "text/plain": [
       "['!', 28.5]"
      ]
     },
     "execution_count": 9,
     "metadata": {},
     "output_type": "execute_result"
    }
   ],
   "source": [
    "mylist[-3:-1]"
   ]
  },
  {
   "cell_type": "code",
   "execution_count": 10,
   "id": "demanding-membership",
   "metadata": {},
   "outputs": [],
   "source": [
    "mylist = [\"shaiza\",1, \"farman\", 2, \"$\"]"
   ]
  },
  {
   "cell_type": "code",
   "execution_count": 11,
   "id": "organizational-impact",
   "metadata": {},
   "outputs": [
    {
     "data": {
      "text/plain": [
       "['shaiza', 1, 'farman', 2, '$']"
      ]
     },
     "execution_count": 11,
     "metadata": {},
     "output_type": "execute_result"
    }
   ],
   "source": [
    "mylist"
   ]
  },
  {
   "cell_type": "code",
   "execution_count": null,
   "id": "reduced-comparison",
   "metadata": {},
   "outputs": [],
   "source": []
  },
  {
   "cell_type": "code",
   "execution_count": null,
   "id": "mechanical-cement",
   "metadata": {},
   "outputs": [],
   "source": []
  },
  {
   "cell_type": "code",
   "execution_count": 17,
   "id": "another-jenny",
   "metadata": {},
   "outputs": [],
   "source": [
    "mylist.append(\"qurban\")"
   ]
  },
  {
   "cell_type": "code",
   "execution_count": 18,
   "id": "possible-crawford",
   "metadata": {},
   "outputs": [
    {
     "data": {
      "text/plain": [
       "['shaiza', 1, 'farman', 2, '$', 'Shaiza', 'Shaiza', 'qurban']"
      ]
     },
     "execution_count": 18,
     "metadata": {},
     "output_type": "execute_result"
    }
   ],
   "source": [
    "mylist"
   ]
  },
  {
   "cell_type": "code",
   "execution_count": 20,
   "id": "enabling-excuse",
   "metadata": {},
   "outputs": [],
   "source": [
    "mylist[0]=\"SHAIZA\""
   ]
  },
  {
   "cell_type": "code",
   "execution_count": 23,
   "id": "front-bennett",
   "metadata": {},
   "outputs": [],
   "source": [
    "mylist[-1]=\"QURBAN\""
   ]
  },
  {
   "cell_type": "code",
   "execution_count": 24,
   "id": "interior-survival",
   "metadata": {},
   "outputs": [
    {
     "data": {
      "text/plain": [
       "['SHAIZA', 1, 'farman', 2, '$', 'Shaiza', 'Shaiza', 'QURBAN']"
      ]
     },
     "execution_count": 24,
     "metadata": {},
     "output_type": "execute_result"
    }
   ],
   "source": [
    "mylist"
   ]
  },
  {
   "cell_type": "code",
   "execution_count": null,
   "id": "white-recipient",
   "metadata": {},
   "outputs": [],
   "source": [
    "#membership to check whether an item exists in a list"
   ]
  },
  {
   "cell_type": "code",
   "execution_count": 25,
   "id": "natural-butterfly",
   "metadata": {},
   "outputs": [
    {
     "data": {
      "text/plain": [
       "True"
      ]
     },
     "execution_count": 25,
     "metadata": {},
     "output_type": "execute_result"
    }
   ],
   "source": [
    "2 in mylist"
   ]
  },
  {
   "cell_type": "code",
   "execution_count": 26,
   "id": "technical-mason",
   "metadata": {},
   "outputs": [
    {
     "data": {
      "text/plain": [
       "False"
      ]
     },
     "execution_count": 26,
     "metadata": {},
     "output_type": "execute_result"
    }
   ],
   "source": [
    "\"saba\" in mylist"
   ]
  },
  {
   "cell_type": "code",
   "execution_count": 31,
   "id": "cheap-senator",
   "metadata": {},
   "outputs": [
    {
     "data": {
      "text/plain": [
       "'QURBAN'"
      ]
     },
     "execution_count": 31,
     "metadata": {},
     "output_type": "execute_result"
    }
   ],
   "source": [
    "mylist.pop(-1)"
   ]
  },
  {
   "cell_type": "code",
   "execution_count": 33,
   "id": "painted-relative",
   "metadata": {},
   "outputs": [],
   "source": [
    "mylist.remove(\"Shaiza\")"
   ]
  },
  {
   "cell_type": "code",
   "execution_count": 34,
   "id": "ranking-norwegian",
   "metadata": {},
   "outputs": [
    {
     "data": {
      "text/plain": [
       "['SHAIZA', 1, 'farman', 2, '$', 'saba']"
      ]
     },
     "execution_count": 34,
     "metadata": {},
     "output_type": "execute_result"
    }
   ],
   "source": [
    "mylist"
   ]
  },
  {
   "cell_type": "code",
   "execution_count": null,
   "id": "designing-samba",
   "metadata": {},
   "outputs": [],
   "source": [
    "#sorting is not possible as lst contains heterogeneous data"
   ]
  },
  {
   "cell_type": "code",
   "execution_count": 36,
   "id": "pediatric-attribute",
   "metadata": {},
   "outputs": [],
   "source": [
    "list1 = [20, 1, 4, 5]"
   ]
  },
  {
   "cell_type": "code",
   "execution_count": 37,
   "id": "fatty-print",
   "metadata": {},
   "outputs": [],
   "source": [
    "list1.sort()"
   ]
  },
  {
   "cell_type": "code",
   "execution_count": 38,
   "id": "monthly-belief",
   "metadata": {},
   "outputs": [
    {
     "data": {
      "text/plain": [
       "[1, 4, 5, 20]"
      ]
     },
     "execution_count": 38,
     "metadata": {},
     "output_type": "execute_result"
    }
   ],
   "source": [
    "list1"
   ]
  },
  {
   "cell_type": "code",
   "execution_count": 39,
   "id": "infinite-cornwall",
   "metadata": {},
   "outputs": [],
   "source": [
    "list1.sort(reverse=True)"
   ]
  },
  {
   "cell_type": "code",
   "execution_count": 40,
   "id": "supported-burns",
   "metadata": {},
   "outputs": [
    {
     "data": {
      "text/plain": [
       "[20, 5, 4, 1]"
      ]
     },
     "execution_count": 40,
     "metadata": {},
     "output_type": "execute_result"
    }
   ],
   "source": [
    "list1"
   ]
  },
  {
   "cell_type": "code",
   "execution_count": 42,
   "id": "finnish-evening",
   "metadata": {},
   "outputs": [],
   "source": [
    "fruits = [\"apple\",\"banana\",\"cherry\"]"
   ]
  },
  {
   "cell_type": "code",
   "execution_count": 43,
   "id": "native-baseball",
   "metadata": {},
   "outputs": [
    {
     "data": {
      "text/plain": [
       "['apple', 'banana', 'cherry']"
      ]
     },
     "execution_count": 43,
     "metadata": {},
     "output_type": "execute_result"
    }
   ],
   "source": [
    "fruits"
   ]
  },
  {
   "cell_type": "code",
   "execution_count": 44,
   "id": "coastal-august",
   "metadata": {},
   "outputs": [],
   "source": [
    "fruits.remove(\"apple\")"
   ]
  },
  {
   "cell_type": "code",
   "execution_count": 45,
   "id": "maritime-emperor",
   "metadata": {},
   "outputs": [
    {
     "data": {
      "text/plain": [
       "['banana', 'cherry']"
      ]
     },
     "execution_count": 45,
     "metadata": {},
     "output_type": "execute_result"
    }
   ],
   "source": [
    "fruits"
   ]
  },
  {
   "cell_type": "code",
   "execution_count": 49,
   "id": "interracial-fighter",
   "metadata": {},
   "outputs": [],
   "source": [
    "fruits[0]=\"kiwi\""
   ]
  },
  {
   "cell_type": "code",
   "execution_count": 50,
   "id": "equal-tennessee",
   "metadata": {},
   "outputs": [
    {
     "data": {
      "text/plain": [
       "['kiwi', 'cherry', 'kiwi']"
      ]
     },
     "execution_count": 50,
     "metadata": {},
     "output_type": "execute_result"
    }
   ],
   "source": [
    "fruits"
   ]
  },
  {
   "cell_type": "code",
   "execution_count": 51,
   "id": "greenhouse-philosophy",
   "metadata": {},
   "outputs": [],
   "source": [
    "fruits[2]=\"cherry\""
   ]
  },
  {
   "cell_type": "code",
   "execution_count": 52,
   "id": "concerned-cargo",
   "metadata": {},
   "outputs": [],
   "source": [
    "fruits[1]=\"banana\""
   ]
  },
  {
   "cell_type": "code",
   "execution_count": 53,
   "id": "contained-wayne",
   "metadata": {},
   "outputs": [
    {
     "data": {
      "text/plain": [
       "['kiwi', 'banana', 'cherry']"
      ]
     },
     "execution_count": 53,
     "metadata": {},
     "output_type": "execute_result"
    }
   ],
   "source": [
    "fruits"
   ]
  },
  {
   "cell_type": "code",
   "execution_count": 54,
   "id": "aggregate-pipeline",
   "metadata": {},
   "outputs": [],
   "source": [
    "fruits.append(\"orange\")"
   ]
  },
  {
   "cell_type": "code",
   "execution_count": 61,
   "id": "light-bobby",
   "metadata": {},
   "outputs": [
    {
     "data": {
      "text/plain": [
       "['kiwi', 'banana', 'cherry', 'orange']"
      ]
     },
     "execution_count": 61,
     "metadata": {},
     "output_type": "execute_result"
    }
   ],
   "source": [
    "fruits"
   ]
  },
  {
   "cell_type": "code",
   "execution_count": 62,
   "id": "wrong-opportunity",
   "metadata": {},
   "outputs": [],
   "source": [
    "fruits.insert(1,\"lemon\")"
   ]
  },
  {
   "cell_type": "code",
   "execution_count": 63,
   "id": "split-consortium",
   "metadata": {},
   "outputs": [
    {
     "data": {
      "text/plain": [
       "['kiwi', 'lemon', 'banana', 'cherry', 'orange']"
      ]
     },
     "execution_count": 63,
     "metadata": {},
     "output_type": "execute_result"
    }
   ],
   "source": [
    "fruits"
   ]
  },
  {
   "cell_type": "code",
   "execution_count": 64,
   "id": "seeing-tucson",
   "metadata": {},
   "outputs": [],
   "source": [
    "fruits.remove(\"banana\")"
   ]
  },
  {
   "cell_type": "code",
   "execution_count": 65,
   "id": "contrary-coordinate",
   "metadata": {},
   "outputs": [
    {
     "data": {
      "text/plain": [
       "['kiwi', 'lemon', 'cherry', 'orange']"
      ]
     },
     "execution_count": 65,
     "metadata": {},
     "output_type": "execute_result"
    }
   ],
   "source": [
    "fruits"
   ]
  },
  {
   "cell_type": "code",
   "execution_count": 67,
   "id": "harmful-curve",
   "metadata": {},
   "outputs": [],
   "source": [
    "fruits.sort(reverse=True)"
   ]
  },
  {
   "cell_type": "code",
   "execution_count": 68,
   "id": "promotional-investor",
   "metadata": {},
   "outputs": [
    {
     "data": {
      "text/plain": [
       "['orange', 'lemon', 'kiwi', 'cherry']"
      ]
     },
     "execution_count": 68,
     "metadata": {},
     "output_type": "execute_result"
    }
   ],
   "source": [
    "fruits"
   ]
  },
  {
   "cell_type": "code",
   "execution_count": 70,
   "id": "black-offset",
   "metadata": {},
   "outputs": [
    {
     "name": "stdout",
     "output_type": "stream",
     "text": [
      "kiwi\n",
      "cherry\n"
     ]
    }
   ],
   "source": [
    "print(fruits[2])\n",
    "print(fruits[3])\n"
   ]
  },
  {
   "cell_type": "code",
   "execution_count": 72,
   "id": "joined-trick",
   "metadata": {},
   "outputs": [
    {
     "name": "stdout",
     "output_type": "stream",
     "text": [
      "['orange', 'lemon', 'kiwi', 'cherry']\n"
     ]
    }
   ],
   "source": [
    "print(fruits)"
   ]
  }
 ],
 "metadata": {
  "kernelspec": {
   "display_name": "Python 3",
   "language": "python",
   "name": "python3"
  },
  "language_info": {
   "codemirror_mode": {
    "name": "ipython",
    "version": 3
   },
   "file_extension": ".py",
   "mimetype": "text/x-python",
   "name": "python",
   "nbconvert_exporter": "python",
   "pygments_lexer": "ipython3",
   "version": "3.6.13"
  }
 },
 "nbformat": 4,
 "nbformat_minor": 5
}
