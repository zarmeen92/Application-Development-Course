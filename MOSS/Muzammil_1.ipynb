{
 "cells": [
  {
   "cell_type": "code",
   "execution_count": 1,
   "metadata": {},
   "outputs": [
    {
     "data": {
      "text/plain": [
       "array('i', [10, 12, 15, 11])"
      ]
     },
     "execution_count": 1,
     "metadata": {},
     "output_type": "execute_result"
    }
   ],
   "source": [
    "#Array is a container which is collection of values having same data type (ex: All strings/float/integers)\n",
    "#Array with Integers\n",
    "from array import *\n",
    "array_1 = array(\"i\", [10,12,15,11])\n",
    "array_1"
   ]
  },
  {
   "cell_type": "code",
   "execution_count": 2,
   "metadata": {},
   "outputs": [
    {
     "name": "stdout",
     "output_type": "stream",
     "text": [
      "Help on class array in module array:\n",
      "\n",
      "class array(builtins.object)\n",
      " |  array(typecode [, initializer]) -> array\n",
      " |  \n",
      " |  Return a new array whose items are restricted by typecode, and\n",
      " |  initialized from the optional initializer value, which must be a list,\n",
      " |  string or iterable over elements of the appropriate type.\n",
      " |  \n",
      " |  Arrays represent basic values and behave very much like lists, except\n",
      " |  the type of objects stored in them is constrained. The type is specified\n",
      " |  at object creation time by using a type code, which is a single character.\n",
      " |  The following type codes are defined:\n",
      " |  \n",
      " |      Type code   C Type             Minimum size in bytes\n",
      " |      'b'         signed integer     1\n",
      " |      'B'         unsigned integer   1\n",
      " |      'u'         Unicode character  2 (see note)\n",
      " |      'h'         signed integer     2\n",
      " |      'H'         unsigned integer   2\n",
      " |      'i'         signed integer     2\n",
      " |      'I'         unsigned integer   2\n",
      " |      'l'         signed integer     4\n",
      " |      'L'         unsigned integer   4\n",
      " |      'q'         signed integer     8 (see note)\n",
      " |      'Q'         unsigned integer   8 (see note)\n",
      " |      'f'         floating point     4\n",
      " |      'd'         floating point     8\n",
      " |  \n",
      " |  NOTE: The 'u' typecode corresponds to Python's unicode character. On\n",
      " |  narrow builds this is 2-bytes on wide builds this is 4-bytes.\n",
      " |  \n",
      " |  NOTE: The 'q' and 'Q' type codes are only available if the platform\n",
      " |  C compiler used to build Python supports 'long long', or, on Windows,\n",
      " |  '__int64'.\n",
      " |  \n",
      " |  Methods:\n",
      " |  \n",
      " |  append() -- append a new item to the end of the array\n",
      " |  buffer_info() -- return information giving the current memory info\n",
      " |  byteswap() -- byteswap all the items of the array\n",
      " |  count() -- return number of occurrences of an object\n",
      " |  extend() -- extend array by appending multiple elements from an iterable\n",
      " |  fromfile() -- read items from a file object\n",
      " |  fromlist() -- append items from the list\n",
      " |  frombytes() -- append items from the string\n",
      " |  index() -- return index of first occurrence of an object\n",
      " |  insert() -- insert a new item into the array at a provided position\n",
      " |  pop() -- remove and return item (default last)\n",
      " |  remove() -- remove first occurrence of an object\n",
      " |  reverse() -- reverse the order of the items in the array\n",
      " |  tofile() -- write all items to a file object\n",
      " |  tolist() -- return the array converted to an ordinary list\n",
      " |  tobytes() -- return the array converted to a string\n",
      " |  \n",
      " |  Attributes:\n",
      " |  \n",
      " |  typecode -- the typecode character used to create the array\n",
      " |  itemsize -- the length in bytes of one array item\n",
      " |  \n",
      " |  Methods defined here:\n",
      " |  \n",
      " |  __add__(self, value, /)\n",
      " |      Return self+value.\n",
      " |  \n",
      " |  __contains__(self, key, /)\n",
      " |      Return key in self.\n",
      " |  \n",
      " |  __copy__(self, /)\n",
      " |      Return a copy of the array.\n",
      " |  \n",
      " |  __deepcopy__(self, unused, /)\n",
      " |      Return a copy of the array.\n",
      " |  \n",
      " |  __delitem__(self, key, /)\n",
      " |      Delete self[key].\n",
      " |  \n",
      " |  __eq__(self, value, /)\n",
      " |      Return self==value.\n",
      " |  \n",
      " |  __ge__(self, value, /)\n",
      " |      Return self>=value.\n",
      " |  \n",
      " |  __getattribute__(self, name, /)\n",
      " |      Return getattr(self, name).\n",
      " |  \n",
      " |  __getitem__(self, key, /)\n",
      " |      Return self[key].\n",
      " |  \n",
      " |  __gt__(self, value, /)\n",
      " |      Return self>value.\n",
      " |  \n",
      " |  __iadd__(self, value, /)\n",
      " |      Implement self+=value.\n",
      " |  \n",
      " |  __imul__(self, value, /)\n",
      " |      Implement self*=value.\n",
      " |  \n",
      " |  __iter__(self, /)\n",
      " |      Implement iter(self).\n",
      " |  \n",
      " |  __le__(self, value, /)\n",
      " |      Return self<=value.\n",
      " |  \n",
      " |  __len__(self, /)\n",
      " |      Return len(self).\n",
      " |  \n",
      " |  __lt__(self, value, /)\n",
      " |      Return self<value.\n",
      " |  \n",
      " |  __mul__(self, value, /)\n",
      " |      Return self*value.\n",
      " |  \n",
      " |  __ne__(self, value, /)\n",
      " |      Return self!=value.\n",
      " |  \n",
      " |  __reduce_ex__(self, value, /)\n",
      " |      Return state information for pickling.\n",
      " |  \n",
      " |  __repr__(self, /)\n",
      " |      Return repr(self).\n",
      " |  \n",
      " |  __rmul__(self, value, /)\n",
      " |      Return value*self.\n",
      " |  \n",
      " |  __setitem__(self, key, value, /)\n",
      " |      Set self[key] to value.\n",
      " |  \n",
      " |  __sizeof__(self, /)\n",
      " |      Size of the array in memory, in bytes.\n",
      " |  \n",
      " |  append(self, v, /)\n",
      " |      Append new value v to the end of the array.\n",
      " |  \n",
      " |  buffer_info(self, /)\n",
      " |      Return a tuple (address, length) giving the current memory address and the length in items of the buffer used to hold array's contents.\n",
      " |      \n",
      " |      The length should be multiplied by the itemsize attribute to calculate\n",
      " |      the buffer length in bytes.\n",
      " |  \n",
      " |  byteswap(self, /)\n",
      " |      Byteswap all items of the array.\n",
      " |      \n",
      " |      If the items in the array are not 1, 2, 4, or 8 bytes in size, RuntimeError is\n",
      " |      raised.\n",
      " |  \n",
      " |  count(self, v, /)\n",
      " |      Return number of occurrences of v in the array.\n",
      " |  \n",
      " |  extend(self, bb, /)\n",
      " |      Append items to the end of the array.\n",
      " |  \n",
      " |  frombytes(self, buffer, /)\n",
      " |      Appends items from the string, interpreting it as an array of machine values, as if it had been read from a file using the fromfile() method).\n",
      " |  \n",
      " |  fromfile(self, f, n, /)\n",
      " |      Read n objects from the file object f and append them to the end of the array.\n",
      " |  \n",
      " |  fromlist(self, list, /)\n",
      " |      Append items to array from list.\n",
      " |  \n",
      " |  fromstring(self, buffer, /)\n",
      " |      Appends items from the string, interpreting it as an array of machine values, as if it had been read from a file using the fromfile() method).\n",
      " |      \n",
      " |      This method is deprecated. Use frombytes instead.\n",
      " |  \n",
      " |  fromunicode(self, ustr, /)\n",
      " |      Extends this array with data from the unicode string ustr.\n",
      " |      \n",
      " |      The array must be a unicode type array; otherwise a ValueError is raised.\n",
      " |      Use array.frombytes(ustr.encode(...)) to append Unicode data to an array of\n",
      " |      some other type.\n",
      " |  \n",
      " |  index(self, v, /)\n",
      " |      Return index of first occurrence of v in the array.\n",
      " |  \n",
      " |  insert(self, i, v, /)\n",
      " |      Insert a new item v into the array before position i.\n",
      " |  \n",
      " |  pop(self, i=-1, /)\n",
      " |      Return the i-th element and delete it from the array.\n",
      " |      \n",
      " |      i defaults to -1.\n",
      " |  \n",
      " |  remove(self, v, /)\n",
      " |      Remove the first occurrence of v in the array.\n",
      " |  \n",
      " |  reverse(self, /)\n",
      " |      Reverse the order of the items in the array.\n",
      " |  \n",
      " |  tobytes(self, /)\n",
      " |      Convert the array to an array of machine values and return the bytes representation.\n",
      " |  \n",
      " |  tofile(self, f, /)\n",
      " |      Write all items (as machine values) to the file object f.\n",
      " |  \n",
      " |  tolist(self, /)\n",
      " |      Convert array to an ordinary list with the same items.\n",
      " |  \n",
      " |  tostring(self, /)\n",
      " |      Convert the array to an array of machine values and return the bytes representation.\n",
      " |      \n",
      " |      This method is deprecated. Use tobytes instead.\n",
      " |  \n",
      " |  tounicode(self, /)\n",
      " |      Extends this array with data from the unicode string ustr.\n",
      " |      \n",
      " |      Convert the array to a unicode string.  The array must be a unicode type array;\n",
      " |      otherwise a ValueError is raised.  Use array.tobytes().decode() to obtain a\n",
      " |      unicode string from an array of some other type.\n",
      " |  \n",
      " |  ----------------------------------------------------------------------\n",
      " |  Static methods defined here:\n",
      " |  \n",
      " |  __new__(*args, **kwargs) from builtins.type\n",
      " |      Create and return a new object.  See help(type) for accurate signature.\n",
      " |  \n",
      " |  ----------------------------------------------------------------------\n",
      " |  Data descriptors defined here:\n",
      " |  \n",
      " |  itemsize\n",
      " |      the size, in bytes, of one array item\n",
      " |  \n",
      " |  typecode\n",
      " |      the typecode character used to create the array\n",
      " |  \n",
      " |  ----------------------------------------------------------------------\n",
      " |  Data and other attributes defined here:\n",
      " |  \n",
      " |  __hash__ = None\n",
      "\n"
     ]
    }
   ],
   "source": [
    "help(array)"
   ]
  },
  {
   "cell_type": "code",
   "execution_count": 3,
   "metadata": {},
   "outputs": [
    {
     "data": {
      "text/plain": [
       "array('d', [10.5, 12.5, 15.5, 11.5])"
      ]
     },
     "execution_count": 3,
     "metadata": {},
     "output_type": "execute_result"
    }
   ],
   "source": [
    "#Array with float\n",
    "from array import *\n",
    "array_1 = array(\"d\", [10.5,12.5,15.5,11.5])\n",
    "array_1"
   ]
  },
  {
   "cell_type": "code",
   "execution_count": 4,
   "metadata": {},
   "outputs": [
    {
     "data": {
      "text/plain": [
       "array('u', 'hello')"
      ]
     },
     "execution_count": 4,
     "metadata": {},
     "output_type": "execute_result"
    }
   ],
   "source": [
    "#Array with Strings\n",
    "from array import *\n",
    "array_1 = array(\"u\", \"hello\")\n",
    "array_1"
   ]
  },
  {
   "cell_type": "code",
   "execution_count": 5,
   "metadata": {},
   "outputs": [
    {
     "ename": "TypeError",
     "evalue": "an integer is required (got type str)",
     "output_type": "error",
     "traceback": [
      "\u001b[1;31m---------------------------------------------------------------------------\u001b[0m",
      "\u001b[1;31mTypeError\u001b[0m                                 Traceback (most recent call last)",
      "\u001b[1;32m<ipython-input-5-432f66d31264>\u001b[0m in \u001b[0;36m<module>\u001b[1;34m\u001b[0m\n\u001b[0;32m      1\u001b[0m \u001b[1;32mfrom\u001b[0m \u001b[0marray\u001b[0m \u001b[1;32mimport\u001b[0m \u001b[1;33m*\u001b[0m\u001b[1;33m\u001b[0m\u001b[1;33m\u001b[0m\u001b[0m\n\u001b[1;32m----> 2\u001b[1;33m \u001b[0marray_1\u001b[0m \u001b[1;33m=\u001b[0m \u001b[0marray\u001b[0m\u001b[1;33m(\u001b[0m\u001b[1;34m\"i\"\u001b[0m\u001b[1;33m,\u001b[0m \u001b[1;33m[\u001b[0m\u001b[1;34m\"h\"\u001b[0m\u001b[1;33m,\u001b[0m\u001b[1;34m\"e\"\u001b[0m\u001b[1;33m,\u001b[0m\u001b[1;34m\"l\"\u001b[0m\u001b[1;33m,\u001b[0m\u001b[1;34m\"l\"\u001b[0m\u001b[1;33m,\u001b[0m\u001b[1;34m\"o\"\u001b[0m\u001b[1;33m]\u001b[0m\u001b[1;33m)\u001b[0m\u001b[1;33m\u001b[0m\u001b[1;33m\u001b[0m\u001b[0m\n\u001b[0m\u001b[0;32m      3\u001b[0m \u001b[0marray_1\u001b[0m\u001b[1;33m\u001b[0m\u001b[1;33m\u001b[0m\u001b[0m\n",
      "\u001b[1;31mTypeError\u001b[0m: an integer is required (got type str)"
     ]
    }
   ],
   "source": []
  },
  {
   "cell_type": "code",
   "execution_count": 6,
   "metadata": {},
   "outputs": [
    {
     "data": {
      "text/plain": [
       "array('u', 'hello')"
      ]
     },
     "execution_count": 6,
     "metadata": {},
     "output_type": "execute_result"
    }
   ],
   "source": [
    "#Array with Strings\n",
    "from array import *\n",
    "array_1 = array(\"u\", [\"h\",\"e\",\"l\",\"l\",\"o\"])\n",
    "array_1"
   ]
  },
  {
   "cell_type": "code",
   "execution_count": 7,
   "metadata": {},
   "outputs": [
    {
     "name": "stdout",
     "output_type": "stream",
     "text": [
      "5\n"
     ]
    }
   ],
   "source": [
    "#Length of an Array\n",
    "from array import *\n",
    "array_1 = array(\"u\", \"hello\")\n",
    "print(len(array_1))"
   ]
  },
  {
   "cell_type": "code",
   "execution_count": 8,
   "metadata": {},
   "outputs": [
    {
     "data": {
      "text/plain": [
       "'l'"
      ]
     },
     "execution_count": 8,
     "metadata": {},
     "output_type": "execute_result"
    }
   ],
   "source": [
    "#Indexing/Accessing an Array\n",
    "from array import *\n",
    "array_1 = array(\"u\", \"hello\")\n",
    "array_1[2]"
   ]
  },
  {
   "cell_type": "code",
   "execution_count": 9,
   "metadata": {},
   "outputs": [
    {
     "data": {
      "text/plain": [
       "array('u', 'heLlo')"
      ]
     },
     "execution_count": 9,
     "metadata": {},
     "output_type": "execute_result"
    }
   ],
   "source": [
    "#Slicing of an Array\n",
    "from array import *\n",
    "array_1 = array(\"u\", \"hello\")\n",
    "array_1[2] = \"L\"\n",
    "array_1"
   ]
  },
  {
   "cell_type": "code",
   "execution_count": 10,
   "metadata": {},
   "outputs": [
    {
     "data": {
      "text/plain": [
       "array('i', [10, 20, 30, 40, 50, 60])"
      ]
     },
     "execution_count": 10,
     "metadata": {},
     "output_type": "execute_result"
    }
   ],
   "source": [
    "array_1 = array(\"i\",[10,20,30,50,60])\n",
    "array_1.insert(3,40)\n",
    "array_1"
   ]
  },
  {
   "cell_type": "code",
   "execution_count": 11,
   "metadata": {},
   "outputs": [
    {
     "ename": "ValueError",
     "evalue": "array.remove(x): x not in array",
     "output_type": "error",
     "traceback": [
      "\u001b[1;31m---------------------------------------------------------------------------\u001b[0m",
      "\u001b[1;31mValueError\u001b[0m                                Traceback (most recent call last)",
      "\u001b[1;32m<ipython-input-11-ecc0977716de>\u001b[0m in \u001b[0;36m<module>\u001b[1;34m\u001b[0m\n\u001b[0;32m      1\u001b[0m \u001b[0marray_1\u001b[0m \u001b[1;33m=\u001b[0m \u001b[0marray\u001b[0m\u001b[1;33m(\u001b[0m\u001b[1;34m\"i\"\u001b[0m\u001b[1;33m,\u001b[0m\u001b[1;33m[\u001b[0m\u001b[1;36m10\u001b[0m\u001b[1;33m,\u001b[0m\u001b[1;36m20\u001b[0m\u001b[1;33m,\u001b[0m\u001b[1;36m30\u001b[0m\u001b[1;33m,\u001b[0m\u001b[1;36m50\u001b[0m\u001b[1;33m,\u001b[0m\u001b[1;36m60\u001b[0m\u001b[1;33m]\u001b[0m\u001b[1;33m)\u001b[0m\u001b[1;33m\u001b[0m\u001b[1;33m\u001b[0m\u001b[0m\n\u001b[1;32m----> 2\u001b[1;33m \u001b[0marray_1\u001b[0m\u001b[1;33m.\u001b[0m\u001b[0mremove\u001b[0m\u001b[1;33m(\u001b[0m\u001b[1;36m40\u001b[0m\u001b[1;33m)\u001b[0m\u001b[1;33m\u001b[0m\u001b[1;33m\u001b[0m\u001b[0m\n\u001b[0m\u001b[0;32m      3\u001b[0m \u001b[0marray_1\u001b[0m\u001b[1;33m\u001b[0m\u001b[1;33m\u001b[0m\u001b[0m\n",
      "\u001b[1;31mValueError\u001b[0m: array.remove(x): x not in array"
     ]
    }
   ],
   "source": [
    "array_1 = array(\"i\",[10,20,30,50,60])\n",
    "array_1.remove(40)\n",
    "array_1"
   ]
  },
  {
   "cell_type": "code",
   "execution_count": 12,
   "metadata": {},
   "outputs": [
    {
     "data": {
      "text/plain": [
       "array('i', [10, 20, 30, 40, 40, 50, 60])"
      ]
     },
     "execution_count": 12,
     "metadata": {},
     "output_type": "execute_result"
    }
   ],
   "source": [
    "array_1 = array(\"i\",[10,20,30,40,50,60])\n",
    "array_1.insert(3,40)\n",
    "array_1"
   ]
  },
  {
   "cell_type": "code",
   "execution_count": 13,
   "metadata": {},
   "outputs": [
    {
     "ename": "ValueError",
     "evalue": "array.remove(x): x not in array",
     "output_type": "error",
     "traceback": [
      "\u001b[1;31m---------------------------------------------------------------------------\u001b[0m",
      "\u001b[1;31mValueError\u001b[0m                                Traceback (most recent call last)",
      "\u001b[1;32m<ipython-input-13-ecc0977716de>\u001b[0m in \u001b[0;36m<module>\u001b[1;34m\u001b[0m\n\u001b[0;32m      1\u001b[0m \u001b[0marray_1\u001b[0m \u001b[1;33m=\u001b[0m \u001b[0marray\u001b[0m\u001b[1;33m(\u001b[0m\u001b[1;34m\"i\"\u001b[0m\u001b[1;33m,\u001b[0m\u001b[1;33m[\u001b[0m\u001b[1;36m10\u001b[0m\u001b[1;33m,\u001b[0m\u001b[1;36m20\u001b[0m\u001b[1;33m,\u001b[0m\u001b[1;36m30\u001b[0m\u001b[1;33m,\u001b[0m\u001b[1;36m50\u001b[0m\u001b[1;33m,\u001b[0m\u001b[1;36m60\u001b[0m\u001b[1;33m]\u001b[0m\u001b[1;33m)\u001b[0m\u001b[1;33m\u001b[0m\u001b[1;33m\u001b[0m\u001b[0m\n\u001b[1;32m----> 2\u001b[1;33m \u001b[0marray_1\u001b[0m\u001b[1;33m.\u001b[0m\u001b[0mremove\u001b[0m\u001b[1;33m(\u001b[0m\u001b[1;36m40\u001b[0m\u001b[1;33m)\u001b[0m\u001b[1;33m\u001b[0m\u001b[1;33m\u001b[0m\u001b[0m\n\u001b[0m\u001b[0;32m      3\u001b[0m \u001b[0marray_1\u001b[0m\u001b[1;33m\u001b[0m\u001b[1;33m\u001b[0m\u001b[0m\n",
      "\u001b[1;31mValueError\u001b[0m: array.remove(x): x not in array"
     ]
    }
   ],
   "source": [
    "array_1 = array(\"i\",[10,20,30,50,60])\n",
    "array_1.remove(40)\n",
    "array_1"
   ]
  },
  {
   "cell_type": "code",
   "execution_count": 14,
   "metadata": {},
   "outputs": [
    {
     "data": {
      "text/plain": [
       "array('i', [10, 20, 30, 50, 60])"
      ]
     },
     "execution_count": 14,
     "metadata": {},
     "output_type": "execute_result"
    }
   ],
   "source": [
    "array_1 = array(\"i\",[10,20,30,40,50,60])\n",
    "array_1.remove(40)\n",
    "array_1"
   ]
  },
  {
   "cell_type": "code",
   "execution_count": 15,
   "metadata": {},
   "outputs": [
    {
     "data": {
      "text/plain": [
       "0"
      ]
     },
     "execution_count": 15,
     "metadata": {},
     "output_type": "execute_result"
    }
   ],
   "source": [
    "array_1 = array(\"u\",'hello')\n",
    "array_1.index(\"h\")"
   ]
  },
  {
   "cell_type": "code",
   "execution_count": 16,
   "metadata": {},
   "outputs": [
    {
     "ename": "SyntaxError",
     "evalue": "invalid syntax (<ipython-input-16-737907cc2ad8>, line 2)",
     "output_type": "error",
     "traceback": [
      "\u001b[1;36m  File \u001b[1;32m\"<ipython-input-16-737907cc2ad8>\"\u001b[1;36m, line \u001b[1;32m2\u001b[0m\n\u001b[1;33m    mylist = [\"hello\",\"world\",\"!\",231.20.5]\u001b[0m\n\u001b[1;37m                                        ^\u001b[0m\n\u001b[1;31mSyntaxError\u001b[0m\u001b[1;31m:\u001b[0m invalid syntax\n"
     ]
    }
   ],
   "source": [
    "#LISTS\n",
    "mylist = [\"hello\",\"world\",\"!\",231.20.5]\n",
    "len(mylist)"
   ]
  },
  {
   "cell_type": "code",
   "execution_count": 17,
   "metadata": {},
   "outputs": [
    {
     "ename": "SyntaxError",
     "evalue": "invalid syntax (<ipython-input-17-b9f6ed2ebbde>, line 1)",
     "output_type": "error",
     "traceback": [
      "\u001b[1;36m  File \u001b[1;32m\"<ipython-input-17-b9f6ed2ebbde>\"\u001b[1;36m, line \u001b[1;32m1\u001b[0m\n\u001b[1;33m    mylist = [\"hello\",\"world\",\"!\",231.20.5]\u001b[0m\n\u001b[1;37m                                        ^\u001b[0m\n\u001b[1;31mSyntaxError\u001b[0m\u001b[1;31m:\u001b[0m invalid syntax\n"
     ]
    }
   ],
   "source": [
    "mylist = [\"hello\",\"world\",\"!\",231.20.5]\n",
    "len(mylist)"
   ]
  },
  {
   "cell_type": "code",
   "execution_count": 18,
   "metadata": {},
   "outputs": [
    {
     "data": {
      "text/plain": [
       "5"
      ]
     },
     "execution_count": 18,
     "metadata": {},
     "output_type": "execute_result"
    }
   ],
   "source": [
    "mylist = [\"hello\",\"world\",\"!\",231,20.5]\n",
    "len(mylist)"
   ]
  },
  {
   "cell_type": "code",
   "execution_count": null,
   "metadata": {},
   "outputs": [],
   "source": []
  },
  {
   "cell_type": "code",
   "execution_count": 19,
   "metadata": {},
   "outputs": [
    {
     "data": {
      "text/plain": [
       "'hello'"
      ]
     },
     "execution_count": 19,
     "metadata": {},
     "output_type": "execute_result"
    }
   ],
   "source": [
    "mylist[0]"
   ]
  },
  {
   "cell_type": "code",
   "execution_count": 20,
   "metadata": {},
   "outputs": [
    {
     "data": {
      "text/plain": [
       "'l'"
      ]
     },
     "execution_count": 20,
     "metadata": {},
     "output_type": "execute_result"
    }
   ],
   "source": [
    "mylist[0][2]"
   ]
  },
  {
   "cell_type": "code",
   "execution_count": 21,
   "metadata": {},
   "outputs": [
    {
     "data": {
      "text/plain": [
       "20.5"
      ]
     },
     "execution_count": 21,
     "metadata": {},
     "output_type": "execute_result"
    }
   ],
   "source": [
    "mylist[-1]"
   ]
  },
  {
   "cell_type": "code",
   "execution_count": 22,
   "metadata": {},
   "outputs": [
    {
     "data": {
      "text/plain": [
       "['hello', 'world']"
      ]
     },
     "execution_count": 22,
     "metadata": {},
     "output_type": "execute_result"
    }
   ],
   "source": [
    "mylist[0:2]"
   ]
  },
  {
   "cell_type": "code",
   "execution_count": 23,
   "metadata": {},
   "outputs": [],
   "source": [
    "mylist.append(\"pakistan\")"
   ]
  },
  {
   "cell_type": "code",
   "execution_count": 24,
   "metadata": {},
   "outputs": [
    {
     "data": {
      "text/plain": [
       "['hello', 'world', '!', 231, 20.5, 'pakistan', 'pakistan']"
      ]
     },
     "execution_count": 24,
     "metadata": {},
     "output_type": "execute_result"
    }
   ],
   "source": [
    "#Add any element in last.\n",
    "mylist.append(\"pakistan\")\n",
    "mylist"
   ]
  },
  {
   "cell_type": "code",
   "execution_count": 25,
   "metadata": {},
   "outputs": [
    {
     "data": {
      "text/plain": [
       "['hello', 'world', '!', 231, 20.5, 'pakistan', 'pakistan', 1, 23, 3]"
      ]
     },
     "execution_count": 25,
     "metadata": {},
     "output_type": "execute_result"
    }
   ],
   "source": [
    "#Extend any List\n",
    "mylist.extend([1,23,3])\n",
    "mylist"
   ]
  },
  {
   "cell_type": "code",
   "execution_count": 26,
   "metadata": {},
   "outputs": [
    {
     "data": {
      "text/plain": [
       "['HELLO', 'world', '!', 231, 20.5, 'pakistan', 'pakistan', 1, 23, 3]"
      ]
     },
     "execution_count": 26,
     "metadata": {},
     "output_type": "execute_result"
    }
   ],
   "source": [
    "#MUTATION/Replacing of Entry in List.\n",
    "mylist[0] =\"HELLO\"\n",
    "mylist"
   ]
  },
  {
   "cell_type": "code",
   "execution_count": 27,
   "metadata": {},
   "outputs": [
    {
     "data": {
      "text/plain": [
       "False"
      ]
     },
     "execution_count": 27,
     "metadata": {},
     "output_type": "execute_result"
    }
   ],
   "source": [
    "#MEMBERSHIP : To check any entry in list.\n",
    "100 in mylist"
   ]
  },
  {
   "cell_type": "code",
   "execution_count": 28,
   "metadata": {},
   "outputs": [
    {
     "data": {
      "text/plain": [
       "True"
      ]
     },
     "execution_count": 28,
     "metadata": {},
     "output_type": "execute_result"
    }
   ],
   "source": [
    "231 in mylist"
   ]
  },
  {
   "cell_type": "code",
   "execution_count": 29,
   "metadata": {},
   "outputs": [
    {
     "data": {
      "text/plain": [
       "[2, 'HELLO', 'world', '!', 231, 20.5, 'pakistan', 'pakistan', 1, 23, 3]"
      ]
     },
     "execution_count": 29,
     "metadata": {},
     "output_type": "execute_result"
    }
   ],
   "source": [
    "#Insert\n",
    "mylist.insert(0,2)\n",
    "mylist"
   ]
  },
  {
   "cell_type": "code",
   "execution_count": 31,
   "metadata": {},
   "outputs": [
    {
     "data": {
      "text/plain": [
       "[2, 'HELLO', 'world', '!', 231, 20.5, 1, 23, 3]"
      ]
     },
     "execution_count": 31,
     "metadata": {},
     "output_type": "execute_result"
    }
   ],
   "source": [
    "##Remove using Entry name.\n",
    "mylist.remove(\"pakistan\")\n",
    "mylist"
   ]
  },
  {
   "cell_type": "code",
   "execution_count": 32,
   "metadata": {},
   "outputs": [
    {
     "data": {
      "text/plain": [
       "2"
      ]
     },
     "execution_count": 32,
     "metadata": {},
     "output_type": "execute_result"
    }
   ],
   "source": [
    "mylist.pop(0)"
   ]
  },
  {
   "cell_type": "code",
   "execution_count": 33,
   "metadata": {},
   "outputs": [
    {
     "data": {
      "text/plain": [
       "['world', '!', 231, 20.5, 1, 23, 3]"
      ]
     },
     "execution_count": 33,
     "metadata": {},
     "output_type": "execute_result"
    }
   ],
   "source": [
    "#Remove using Index number.\n",
    "mylist.pop(0)\n",
    "mylist"
   ]
  },
  {
   "cell_type": "code",
   "execution_count": 34,
   "metadata": {},
   "outputs": [
    {
     "data": {
      "text/plain": [
       "[15, 20, 25, 30, 40]"
      ]
     },
     "execution_count": 34,
     "metadata": {},
     "output_type": "execute_result"
    }
   ],
   "source": [
    "#Sorting\n",
    "list1 = [20,30,40,25,15]\n",
    "list1.sort()\n",
    "list1"
   ]
  },
  {
   "cell_type": "code",
   "execution_count": 35,
   "metadata": {},
   "outputs": [
    {
     "data": {
      "text/plain": [
       "[40, 30, 25, 20, 15]"
      ]
     },
     "execution_count": 35,
     "metadata": {},
     "output_type": "execute_result"
    }
   ],
   "source": [
    "#Sorting in Reverse Order\n",
    "list1 = [20,30,40,25,15]\n",
    "list1.sort(reverse = True)\n",
    "list1"
   ]
  },
  {
   "cell_type": "code",
   "execution_count": 36,
   "metadata": {},
   "outputs": [
    {
     "data": {
      "text/plain": [
       "'banana'"
      ]
     },
     "execution_count": 36,
     "metadata": {},
     "output_type": "execute_result"
    }
   ],
   "source": [
    "#Question_1\n",
    "fruit = [\"apple\",\"banana\",\"cherry\"]\n",
    "fruit[1]\n"
   ]
  },
  {
   "cell_type": "code",
   "execution_count": 38,
   "metadata": {},
   "outputs": [
    {
     "data": {
      "text/plain": [
       "['APPLE', 'banana', 'cherry']"
      ]
     },
     "execution_count": 38,
     "metadata": {},
     "output_type": "execute_result"
    }
   ],
   "source": [
    "#Question_2\n",
    "fruit = [\"apple\",\"banana\",\"cherry\"]\n",
    "fruit[0] = \"APPLE\"\n",
    "fruit"
   ]
  },
  {
   "cell_type": "code",
   "execution_count": 39,
   "metadata": {},
   "outputs": [
    {
     "data": {
      "text/plain": [
       "['KIWI', 'banana', 'cherry']"
      ]
     },
     "execution_count": 39,
     "metadata": {},
     "output_type": "execute_result"
    }
   ],
   "source": [
    "#Question_3\n",
    "fruit = [\"apple\",\"banana\",\"cherry\"]\n",
    "fruit[0] = \"KIWI\"\n",
    "fruit"
   ]
  },
  {
   "cell_type": "code",
   "execution_count": 40,
   "metadata": {},
   "outputs": [
    {
     "data": {
      "text/plain": [
       "['apple', 'banana', 'cherry', 'orange']"
      ]
     },
     "execution_count": 40,
     "metadata": {},
     "output_type": "execute_result"
    }
   ],
   "source": [
    "#Question_4\n",
    "fruit = [\"apple\",\"banana\",\"cherry\"]\n",
    "fruit.append(\"orange\")\n",
    "fruit"
   ]
  },
  {
   "cell_type": "code",
   "execution_count": 41,
   "metadata": {},
   "outputs": [
    {
     "data": {
      "text/plain": [
       "['apple', 'lemon', 'banana', 'cherry']"
      ]
     },
     "execution_count": 41,
     "metadata": {},
     "output_type": "execute_result"
    }
   ],
   "source": [
    "#Question_5\n",
    "fruit = [\"apple\",\"banana\",\"cherry\"]\n",
    "fruit.insert(1,\"lemon\")\n",
    "fruit"
   ]
  },
  {
   "cell_type": "code",
   "execution_count": 43,
   "metadata": {},
   "outputs": [
    {
     "data": {
      "text/plain": [
       "['apple', 'cherry']"
      ]
     },
     "execution_count": 43,
     "metadata": {},
     "output_type": "execute_result"
    }
   ],
   "source": [
    "#Question_6\n",
    "fruit = [\"apple\",\"banana\",\"cherry\"]\n",
    "fruit.remove(\"banana\")\n",
    "fruit"
   ]
  },
  {
   "cell_type": "code",
   "execution_count": 44,
   "metadata": {},
   "outputs": [
    {
     "data": {
      "text/plain": [
       "'cherry'"
      ]
     },
     "execution_count": 44,
     "metadata": {},
     "output_type": "execute_result"
    }
   ],
   "source": [
    "#Question_7\n",
    "fruit[-1]"
   ]
  },
  {
   "cell_type": "code",
   "execution_count": 45,
   "metadata": {},
   "outputs": [
    {
     "data": {
      "text/plain": [
       "['orange', 'kiwi', 'melon']"
      ]
     },
     "execution_count": 45,
     "metadata": {},
     "output_type": "execute_result"
    }
   ],
   "source": [
    "#Question_8\n",
    "fruit = [\"apple\",\"banana\",\"cherry\",\"orange\",\"kiwi\",\"melon\",\"mango\"]\n",
    "fruit[3:6]\n"
   ]
  },
  {
   "cell_type": "code",
   "execution_count": 46,
   "metadata": {},
   "outputs": [
    {
     "data": {
      "text/plain": [
       "7"
      ]
     },
     "execution_count": 46,
     "metadata": {},
     "output_type": "execute_result"
    }
   ],
   "source": [
    "#Question_9\n",
    "len(fruit)"
   ]
  },
  {
   "cell_type": "code",
   "execution_count": null,
   "metadata": {},
   "outputs": [],
   "source": []
  }
 ],
 "metadata": {
  "kernelspec": {
   "display_name": "Python 3",
   "language": "python",
   "name": "python3"
  },
  "language_info": {
   "codemirror_mode": {
    "name": "ipython",
    "version": 3
   },
   "file_extension": ".py",
   "mimetype": "text/x-python",
   "name": "python",
   "nbconvert_exporter": "python",
   "pygments_lexer": "ipython3",
   "version": "3.6.6"
  }
 },
 "nbformat": 4,
 "nbformat_minor": 5
}
